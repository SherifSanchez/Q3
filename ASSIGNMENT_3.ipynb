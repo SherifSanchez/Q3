{
  "nbformat": 4,
  "nbformat_minor": 0,
  "metadata": {
    "colab": {
      "name": "ASSIGNMENT 3",
      "provenance": [],
      "collapsed_sections": []
    },
    "kernelspec": {
      "name": "python3",
      "display_name": "Python 3"
    },
    "language_info": {
      "name": "python"
    }
  },
  "cells": [
    {
      "cell_type": "code",
      "execution_count": 1,
      "metadata": {
        "colab": {
          "base_uri": "https://localhost:8080/"
        },
        "id": "uKeXyM7sCm-k",
        "outputId": "4142ce4a-9866-4580-ccd8-dcae1705a325"
      },
      "outputs": [
        {
          "output_type": "stream",
          "name": "stdout",
          "text": [
            "35\n"
          ]
        }
      ],
      "source": [
        "#Question1\n",
        "i = [20, 35, 19]\n",
        "print(max(i))"
      ]
    },
    {
      "cell_type": "code",
      "source": [
        "#Question2\n",
        "def test(x,y):\n",
        "    print(x+y,\",\",x-y)\n",
        "\n",
        "test(40,10)"
      ],
      "metadata": {
        "colab": {
          "base_uri": "https://localhost:8080/"
        },
        "id": "h21MbCYrC9wh",
        "outputId": "aaed87c8-2291-46ce-efbe-c3618389f262"
      },
      "execution_count": 4,
      "outputs": [
        {
          "output_type": "stream",
          "name": "stdout",
          "text": [
            "50 , 30\n"
          ]
        }
      ]
    },
    {
      "cell_type": "code",
      "source": [
        "#Question3\n",
        "\n",
        "all = [17,4,6,88,9,45]\n",
        "print(sum(all))\n",
        "#part 2\n",
        "\n",
        "def mult(x,y,z,c):\n",
        "    print(x*y*z*c)\n",
        "mult(2,3,4,5)\n",
        "#part3\n",
        "k=[]\n",
        "j=[]\n",
        "all = [1,2,3,4,5,6,7,8,9]\n",
        "for i in all :\n",
        "  if i % 2 == 0 :\n",
        "    k.append(i)\n",
        "  else :\n",
        "    j.append(i)  \n",
        "print(sum(k))\n",
        "v = 1 \n",
        "for c in j :\n",
        "   v = v*c\n",
        "\n",
        "print(v)\n",
        " \n",
        "\n",
        "\n",
        "  \n",
        "\n"
      ],
      "metadata": {
        "colab": {
          "base_uri": "https://localhost:8080/"
        },
        "id": "sIKCiiIKDcse",
        "outputId": "a3a7342f-7d88-4844-b9d8-2883cc74f151"
      },
      "execution_count": 95,
      "outputs": [
        {
          "output_type": "stream",
          "name": "stdout",
          "text": [
            "169\n",
            "120\n",
            "20\n",
            "945\n"
          ]
        }
      ]
    },
    {
      "cell_type": "code",
      "source": [
        "#Question4\n",
        "i = \"green-red-yellow-black-white\"\n",
        "c = i.split(\"-\")\n",
        "print(sorted(c))\n",
        "\n",
        "items=[n for n in input().split('-')]\n",
        "items.sort()\n",
        "print('-'.join(items))\n",
        "\n"
      ],
      "metadata": {
        "colab": {
          "base_uri": "https://localhost:8080/"
        },
        "id": "vI4lsC-lOz-1",
        "outputId": "3a388e7f-82bc-4688-ed69-6bac454307c0"
      },
      "execution_count": 42,
      "outputs": [
        {
          "output_type": "stream",
          "name": "stdout",
          "text": [
            "['black', 'green', 'red', 'white', 'yellow']\n",
            "green-red-yellow-black-white\n",
            "black-green-red-white-yellow\n"
          ]
        }
      ]
    },
    {
      "cell_type": "code",
      "source": [
        "#Question5\n",
        "def equ(d) :\n",
        " print(int((2 * 50 * d /30)** 0.5))\n",
        "\n",
        "equ(100)\n",
        "equ(150)\n",
        "equ(180)\n",
        "\n"
      ],
      "metadata": {
        "colab": {
          "base_uri": "https://localhost:8080/"
        },
        "id": "9WS6FI1JQq8N",
        "outputId": "eb0f46a2-af29-470c-97c2-336ab6e1f570"
      },
      "execution_count": 94,
      "outputs": [
        {
          "output_type": "stream",
          "name": "stdout",
          "text": [
            "18\n",
            "22\n",
            "24\n"
          ]
        }
      ]
    },
    {
      "cell_type": "code",
      "source": [
        ""
      ],
      "metadata": {
        "id": "al5o4AcUbywW"
      },
      "execution_count": null,
      "outputs": []
    }
  ]
}